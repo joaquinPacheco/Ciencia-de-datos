{
 "cells": [
  {
   "cell_type": "code",
   "execution_count": 2187,
   "id": "61aca3d1-cb16-499c-820b-42e5dc9d7c44",
   "metadata": {},
   "outputs": [],
   "source": [
    "## Importo librerías\n",
    "import pandas as pd\n",
    "import numpy as np\n",
    "import matplotlib.pyplot as plt\n",
    "import seaborn as sns"
   ]
  },
  {
   "cell_type": "code",
   "execution_count": 2189,
   "id": "b9a5d658-dfae-4ca4-acc4-f786bb18421d",
   "metadata": {},
   "outputs": [],
   "source": [
    "# importo librerias de scikit learn los modelos de entrenamiento.\n",
    "from sklearn.model_selection import train_test_split, GridSearchCV\n",
    "from sklearn.pipeline import Pipeline\n",
    "from sklearn.compose import ColumnTransformer\n",
    "from sklearn.preprocessing import StandardScaler, OneHotEncoder\n",
    "from sklearn.decomposition import PCA\n",
    "from sklearn.linear_model import LogisticRegression\n",
    "from sklearn.ensemble import RandomForestClassifier\n",
    "from sklearn.svm import SVC\n",
    "from sklearn.metrics import accuracy_score, classification_report\n",
    "from sklearn import set_config"
   ]
  },
  {
   "cell_type": "code",
   "execution_count": 2190,
   "id": "fd35b0b5-5e53-4cb6-a52c-e1322e384242",
   "metadata": {},
   "outputs": [],
   "source": [
    "# Configuro opciones para poder visualizar todas las columnas\n",
    "pd.set_option('display.max_columns', None)\n",
    "pd.set_option('display.max_rows', None)"
   ]
  },
  {
   "cell_type": "code",
   "execution_count": 2191,
   "id": "8b5c6d49-79a0-4e1e-a11b-d30ae59c7170",
   "metadata": {},
   "outputs": [
    {
     "data": {
      "text/html": [
       "<div>\n",
       "<style scoped>\n",
       "    .dataframe tbody tr th:only-of-type {\n",
       "        vertical-align: middle;\n",
       "    }\n",
       "\n",
       "    .dataframe tbody tr th {\n",
       "        vertical-align: top;\n",
       "    }\n",
       "\n",
       "    .dataframe thead th {\n",
       "        text-align: right;\n",
       "    }\n",
       "</style>\n",
       "<table border=\"1\" class=\"dataframe\">\n",
       "  <thead>\n",
       "    <tr style=\"text-align: right;\">\n",
       "      <th></th>\n",
       "      <th>Unnamed: 0</th>\n",
       "      <th>customerID</th>\n",
       "      <th>gender</th>\n",
       "      <th>SeniorCitizen</th>\n",
       "      <th>Partner</th>\n",
       "      <th>Dependents</th>\n",
       "      <th>tenure</th>\n",
       "      <th>PhoneService</th>\n",
       "      <th>MultipleLines</th>\n",
       "      <th>InternetService</th>\n",
       "      <th>OnlineSecurity</th>\n",
       "      <th>OnlineBackup</th>\n",
       "      <th>DeviceProtection</th>\n",
       "      <th>TechSupport</th>\n",
       "      <th>StreamingTV</th>\n",
       "      <th>StreamingMovies</th>\n",
       "      <th>Contract</th>\n",
       "      <th>PaperlessBilling</th>\n",
       "      <th>PaymentMethod</th>\n",
       "      <th>MonthlyCharges</th>\n",
       "      <th>TotalCharges</th>\n",
       "      <th>Churn</th>\n",
       "    </tr>\n",
       "  </thead>\n",
       "  <tbody>\n",
       "    <tr>\n",
       "      <th>0</th>\n",
       "      <td>0</td>\n",
       "      <td>7590-VHVEG</td>\n",
       "      <td>Female</td>\n",
       "      <td>NaN</td>\n",
       "      <td>Yes</td>\n",
       "      <td>No</td>\n",
       "      <td>1.0</td>\n",
       "      <td>No</td>\n",
       "      <td>No phone service</td>\n",
       "      <td>DSL</td>\n",
       "      <td>No</td>\n",
       "      <td>Yes</td>\n",
       "      <td>No</td>\n",
       "      <td>No</td>\n",
       "      <td>No</td>\n",
       "      <td>No</td>\n",
       "      <td>Month-to-month</td>\n",
       "      <td>NaN</td>\n",
       "      <td>Electronic check</td>\n",
       "      <td>29.85</td>\n",
       "      <td>29.85</td>\n",
       "      <td>No</td>\n",
       "    </tr>\n",
       "    <tr>\n",
       "      <th>1</th>\n",
       "      <td>1</td>\n",
       "      <td>5575-GNVDE</td>\n",
       "      <td>Male</td>\n",
       "      <td>0.0</td>\n",
       "      <td>No</td>\n",
       "      <td>No</td>\n",
       "      <td>34.0</td>\n",
       "      <td>Yes</td>\n",
       "      <td>No</td>\n",
       "      <td>NaN</td>\n",
       "      <td>Yes</td>\n",
       "      <td>No</td>\n",
       "      <td>Yes</td>\n",
       "      <td>No</td>\n",
       "      <td>No</td>\n",
       "      <td>No</td>\n",
       "      <td>One year</td>\n",
       "      <td>No</td>\n",
       "      <td>Mailed check</td>\n",
       "      <td>NaN</td>\n",
       "      <td>1889.5</td>\n",
       "      <td>No</td>\n",
       "    </tr>\n",
       "    <tr>\n",
       "      <th>2</th>\n",
       "      <td>2</td>\n",
       "      <td>3668-QPYBK</td>\n",
       "      <td>Male</td>\n",
       "      <td>0.0</td>\n",
       "      <td>No</td>\n",
       "      <td>No</td>\n",
       "      <td>2.0</td>\n",
       "      <td>NaN</td>\n",
       "      <td>No</td>\n",
       "      <td>NaN</td>\n",
       "      <td>Yes</td>\n",
       "      <td>NaN</td>\n",
       "      <td>No</td>\n",
       "      <td>No</td>\n",
       "      <td>No</td>\n",
       "      <td>No</td>\n",
       "      <td>Month-to-month</td>\n",
       "      <td>Yes</td>\n",
       "      <td>Mailed check</td>\n",
       "      <td>53.85</td>\n",
       "      <td>108.15</td>\n",
       "      <td>Yes</td>\n",
       "    </tr>\n",
       "  </tbody>\n",
       "</table>\n",
       "</div>"
      ],
      "text/plain": [
       "   Unnamed: 0  customerID  gender  SeniorCitizen Partner Dependents  tenure  \\\n",
       "0           0  7590-VHVEG  Female            NaN     Yes         No     1.0   \n",
       "1           1  5575-GNVDE    Male            0.0      No         No    34.0   \n",
       "2           2  3668-QPYBK    Male            0.0      No         No     2.0   \n",
       "\n",
       "  PhoneService     MultipleLines InternetService OnlineSecurity OnlineBackup  \\\n",
       "0           No  No phone service             DSL             No          Yes   \n",
       "1          Yes                No             NaN            Yes           No   \n",
       "2          NaN                No             NaN            Yes          NaN   \n",
       "\n",
       "  DeviceProtection TechSupport StreamingTV StreamingMovies        Contract  \\\n",
       "0               No          No          No              No  Month-to-month   \n",
       "1              Yes          No          No              No        One year   \n",
       "2               No          No          No              No  Month-to-month   \n",
       "\n",
       "  PaperlessBilling     PaymentMethod  MonthlyCharges TotalCharges Churn  \n",
       "0              NaN  Electronic check           29.85        29.85    No  \n",
       "1               No      Mailed check             NaN       1889.5    No  \n",
       "2              Yes      Mailed check           53.85       108.15   Yes  "
      ]
     },
     "execution_count": 2191,
     "metadata": {},
     "output_type": "execute_result"
    }
   ],
   "source": [
    "telco = pd.read_csv('./telco_churn_clusterai.csv', delimiter=',',encoding='latin-1')\n",
    "telco.head(3)"
   ]
  },
  {
   "cell_type": "code",
   "execution_count": 2192,
   "id": "47a3f9bc-ccb8-4f03-af80-7ad0acda50fb",
   "metadata": {},
   "outputs": [
    {
     "name": "stdout",
     "output_type": "stream",
     "text": [
      "Shape: (7043, 22)\n"
     ]
    }
   ],
   "source": [
    "print(f'Shape: {np.shape(telco)}')"
   ]
  },
  {
   "cell_type": "markdown",
   "id": "71d7c6e1-60c2-4f93-baa2-0312de4f49de",
   "metadata": {},
   "source": [
    "# **1) Preprocesamiento**"
   ]
  },
  {
   "cell_type": "markdown",
   "id": "d693f237-ffaf-4a9d-996a-9238138d8786",
   "metadata": {},
   "source": [
    "### **Encuadre del Data set**"
   ]
  },
  {
   "cell_type": "code",
   "execution_count": 2199,
   "id": "64389328-cd34-4d10-85bb-fe02f0d1df7d",
   "metadata": {},
   "outputs": [],
   "source": [
    "#Reemplazo el valor \"No phone service\" por \"No\" para facilitar la comprension de dataset"
   ]
  },
  {
   "cell_type": "code",
   "execution_count": 2200,
   "id": "77bb9f72-efe0-4586-8a20-599226c7ae0b",
   "metadata": {},
   "outputs": [],
   "source": [
    "# Listo las columnas que tiene 2No phone service\"\n",
    "columns_to_replace = [\n",
    "    'OnlineSecurity', 'OnlineBackup', 'DeviceProtection',\n",
    "    'TechSupport', 'StreamingTV', 'StreamingMovies'\n",
    "]\n",
    "# Reemplazo \"No internet service\" por \"No\" en las columnas especificadas\n",
    "telco[columns_to_replace] = telco[columns_to_replace].replace('No internet service', 'No')\n"
   ]
  },
  {
   "cell_type": "code",
   "execution_count": 2201,
   "id": "e22cc0ec-8d61-452f-b19d-e1efc9594742",
   "metadata": {},
   "outputs": [
    {
     "name": "stdout",
     "output_type": "stream",
     "text": [
      "OnlineSecurity unique values: ['No' 'Yes' nan]\n",
      "OnlineBackup unique values: ['Yes' 'No' nan]\n",
      "DeviceProtection unique values: ['No' 'Yes']\n",
      "TechSupport unique values: ['No' 'Yes']\n",
      "StreamingTV unique values: ['No' 'Yes']\n",
      "StreamingMovies unique values: ['No' 'Yes']\n"
     ]
    }
   ],
   "source": [
    "# Verifico el resultado\n",
    "for column in columns_to_replace:\n",
    "    print(f\"{column} unique values: {telco[column].unique()}\")"
   ]
  },
  {
   "cell_type": "markdown",
   "id": "cfc3b30a-53dd-4061-a4bc-687cfdb4b0d2",
   "metadata": {},
   "source": [
    "#### Imputacion de missings para variables categoricas"
   ]
  },
  {
   "cell_type": "code",
   "execution_count": 2203,
   "id": "1515c02b-3988-4245-ab75-8ede4fd6c99f",
   "metadata": {
    "scrolled": true
   },
   "outputs": [
    {
     "name": "stdout",
     "output_type": "stream",
     "text": [
      "Después de fillna para categóricas:\n",
      "customerID          0\n",
      "gender              0\n",
      "Partner             0\n",
      "Dependents          0\n",
      "PhoneService        0\n",
      "MultipleLines       0\n",
      "InternetService     0\n",
      "OnlineSecurity      0\n",
      "OnlineBackup        0\n",
      "DeviceProtection    0\n",
      "TechSupport         0\n",
      "StreamingTV         0\n",
      "StreamingMovies     0\n",
      "Contract            0\n",
      "PaperlessBilling    0\n",
      "PaymentMethod       0\n",
      "TotalCharges        0\n",
      "Churn               0\n",
      "dtype: int64\n"
     ]
    }
   ],
   "source": [
    "categorical_columns = telco.select_dtypes(include=['object']).columns\n",
    "telco[categorical_columns] = telco[categorical_columns].fillna('sin valor')\n",
    "print(\"Después de fillna para categóricas:\")\n",
    "print(telco[categorical_columns].isnull().sum())"
   ]
  },
  {
   "cell_type": "code",
   "execution_count": null,
   "id": "8ab21d23-e314-4225-ad70-d483ede8bd95",
   "metadata": {},
   "outputs": [],
   "source": []
  },
  {
   "cell_type": "markdown",
   "id": "87995ea4-8bdb-4c49-9c1b-45f5868eca5d",
   "metadata": {},
   "source": [
    "# **2) Exploratory Data Analisis**"
   ]
  },
  {
   "cell_type": "markdown",
   "id": "f46f5417-ea96-405a-9327-ec7b359cdd7f",
   "metadata": {},
   "source": [
    "#### Convierto y completo TotalCharges y MonthlyCharges"
   ]
  },
  {
   "cell_type": "code",
   "execution_count": 2212,
   "id": "446d0988-ecd0-42c0-99f8-3272ace16933",
   "metadata": {},
   "outputs": [
    {
     "name": "stderr",
     "output_type": "stream",
     "text": [
      "C:\\Users\\joaqpach\\AppData\\Local\\Temp\\ipykernel_13704\\1526225934.py:4: FutureWarning: A value is trying to be set on a copy of a DataFrame or Series through chained assignment using an inplace method.\n",
      "The behavior will change in pandas 3.0. This inplace method will never work because the intermediate object on which we are setting values always behaves as a copy.\n",
      "\n",
      "For example, when doing 'df[col].method(value, inplace=True)', try using 'df.method({col: value}, inplace=True)' or df[col] = df[col].method(value) instead, to perform the operation inplace on the original object.\n",
      "\n",
      "\n",
      "  telco[col].fillna(0, inplace=True)\n"
     ]
    }
   ],
   "source": [
    "# Convierto 'TotalCharges' y 'MonthlyCharges' a numérico, manejando valores faltantes\n",
    "for col in ['TotalCharges', 'MonthlyCharges']:\n",
    "    telco[col] = pd.to_numeric(telco[col], errors='coerce')\n",
    "    telco[col].fillna(0, inplace=True)"
   ]
  },
  {
   "cell_type": "markdown",
   "id": "a797cd0f-1ff4-4412-9fe7-e44b59e852b3",
   "metadata": {},
   "source": [
    "#### Verificacion"
   ]
  },
  {
   "cell_type": "code",
   "execution_count": 2215,
   "id": "1261eba8-90cb-436c-8d6a-5556639e8163",
   "metadata": {},
   "outputs": [
    {
     "name": "stdout",
     "output_type": "stream",
     "text": [
      "Valores faltantes en 'MonthlyCharges': 0\n",
      "Valores faltantes en 'TotalCharges': 0\n"
     ]
    }
   ],
   "source": [
    "# Verifico que no haya NaN \n",
    "print(\"Valores faltantes en 'MonthlyCharges':\", telco['MonthlyCharges'].isnull().sum())\n",
    "print(\"Valores faltantes en 'TotalCharges':\", telco['TotalCharges'].isnull().sum())"
   ]
  },
  {
   "cell_type": "markdown",
   "id": "59700a06-7452-4138-95df-33e2f4f43adf",
   "metadata": {},
   "source": [
    "### Eliminacion de missings para variables numericas"
   ]
  },
  {
   "cell_type": "code",
   "execution_count": 2218,
   "id": "b81ca2b6-039e-496b-ba61-ebe61a89e669",
   "metadata": {},
   "outputs": [
    {
     "data": {
      "text/html": [
       "<div>\n",
       "<style scoped>\n",
       "    .dataframe tbody tr th:only-of-type {\n",
       "        vertical-align: middle;\n",
       "    }\n",
       "\n",
       "    .dataframe tbody tr th {\n",
       "        vertical-align: top;\n",
       "    }\n",
       "\n",
       "    .dataframe thead th {\n",
       "        text-align: right;\n",
       "    }\n",
       "</style>\n",
       "<table border=\"1\" class=\"dataframe\">\n",
       "  <thead>\n",
       "    <tr style=\"text-align: right;\">\n",
       "      <th></th>\n",
       "      <th>Total</th>\n",
       "      <th>Percent</th>\n",
       "    </tr>\n",
       "  </thead>\n",
       "  <tbody>\n",
       "    <tr>\n",
       "      <th>SeniorCitizen</th>\n",
       "      <td>916</td>\n",
       "      <td>0.130058</td>\n",
       "    </tr>\n",
       "    <tr>\n",
       "      <th>tenure</th>\n",
       "      <td>916</td>\n",
       "      <td>0.130058</td>\n",
       "    </tr>\n",
       "    <tr>\n",
       "      <th>Unnamed: 0</th>\n",
       "      <td>0</td>\n",
       "      <td>0.000000</td>\n",
       "    </tr>\n",
       "    <tr>\n",
       "      <th>DeviceProtection</th>\n",
       "      <td>0</td>\n",
       "      <td>0.000000</td>\n",
       "    </tr>\n",
       "    <tr>\n",
       "      <th>TotalCharges</th>\n",
       "      <td>0</td>\n",
       "      <td>0.000000</td>\n",
       "    </tr>\n",
       "    <tr>\n",
       "      <th>MonthlyCharges</th>\n",
       "      <td>0</td>\n",
       "      <td>0.000000</td>\n",
       "    </tr>\n",
       "    <tr>\n",
       "      <th>PaymentMethod</th>\n",
       "      <td>0</td>\n",
       "      <td>0.000000</td>\n",
       "    </tr>\n",
       "    <tr>\n",
       "      <th>PaperlessBilling</th>\n",
       "      <td>0</td>\n",
       "      <td>0.000000</td>\n",
       "    </tr>\n",
       "    <tr>\n",
       "      <th>Contract</th>\n",
       "      <td>0</td>\n",
       "      <td>0.000000</td>\n",
       "    </tr>\n",
       "    <tr>\n",
       "      <th>StreamingMovies</th>\n",
       "      <td>0</td>\n",
       "      <td>0.000000</td>\n",
       "    </tr>\n",
       "    <tr>\n",
       "      <th>StreamingTV</th>\n",
       "      <td>0</td>\n",
       "      <td>0.000000</td>\n",
       "    </tr>\n",
       "    <tr>\n",
       "      <th>TechSupport</th>\n",
       "      <td>0</td>\n",
       "      <td>0.000000</td>\n",
       "    </tr>\n",
       "    <tr>\n",
       "      <th>OnlineBackup</th>\n",
       "      <td>0</td>\n",
       "      <td>0.000000</td>\n",
       "    </tr>\n",
       "    <tr>\n",
       "      <th>customerID</th>\n",
       "      <td>0</td>\n",
       "      <td>0.000000</td>\n",
       "    </tr>\n",
       "  </tbody>\n",
       "</table>\n",
       "</div>"
      ],
      "text/plain": [
       "                  Total   Percent\n",
       "SeniorCitizen       916  0.130058\n",
       "tenure              916  0.130058\n",
       "Unnamed: 0            0  0.000000\n",
       "DeviceProtection      0  0.000000\n",
       "TotalCharges          0  0.000000\n",
       "MonthlyCharges        0  0.000000\n",
       "PaymentMethod         0  0.000000\n",
       "PaperlessBilling      0  0.000000\n",
       "Contract              0  0.000000\n",
       "StreamingMovies       0  0.000000\n",
       "StreamingTV           0  0.000000\n",
       "TechSupport           0  0.000000\n",
       "OnlineBackup          0  0.000000\n",
       "customerID            0  0.000000"
      ]
     },
     "execution_count": 2218,
     "metadata": {},
     "output_type": "execute_result"
    }
   ],
   "source": [
    "total = telco.isnull().sum().sort_values(ascending=False)\n",
    "percent = (telco.isnull().sum()/telco.isnull().count()).sort_values(ascending=False)\n",
    "missing_data = pd.concat([total, percent], axis=1, keys=['Total', 'Percent'])\n",
    "missing_data.head(14)"
   ]
  },
  {
   "cell_type": "code",
   "execution_count": 2220,
   "id": "4bae8ade-9d2d-4ba3-8c92-6c39877b49d9",
   "metadata": {},
   "outputs": [
    {
     "name": "stdout",
     "output_type": "stream",
     "text": [
      "Antes de dropna, NaN en numéricas:\n",
      "Unnamed: 0          0\n",
      "SeniorCitizen     916\n",
      "tenure            916\n",
      "MonthlyCharges      0\n",
      "TotalCharges        0\n",
      "dtype: int64\n"
     ]
    }
   ],
   "source": [
    "# # Verifico que no haya NaN en variables numéricas\n",
    "numeric_columns = telco.select_dtypes(include=[np.number]).columns\n",
    "print(\"Antes de dropna, NaN en numéricas:\")\n",
    "print(telco[numeric_columns].isnull().sum())"
   ]
  },
  {
   "cell_type": "code",
   "execution_count": 2222,
   "id": "9207ea3a-4f73-4d17-b89f-d96bd7406887",
   "metadata": {},
   "outputs": [],
   "source": [
    "# Aplico dropna\n",
    "telco.dropna(how='any', inplace=True)"
   ]
  },
  {
   "cell_type": "code",
   "execution_count": 2224,
   "id": "a0abaddc-06e7-4794-8d4d-775211c505ef",
   "metadata": {},
   "outputs": [
    {
     "name": "stdout",
     "output_type": "stream",
     "text": [
      "Unnamed: 0          0\n",
      "customerID          0\n",
      "gender              0\n",
      "SeniorCitizen       0\n",
      "Partner             0\n",
      "Dependents          0\n",
      "tenure              0\n",
      "PhoneService        0\n",
      "MultipleLines       0\n",
      "InternetService     0\n",
      "OnlineSecurity      0\n",
      "OnlineBackup        0\n",
      "DeviceProtection    0\n",
      "TechSupport         0\n",
      "StreamingTV         0\n",
      "StreamingMovies     0\n",
      "Contract            0\n",
      "PaperlessBilling    0\n",
      "PaymentMethod       0\n",
      "MonthlyCharges      0\n",
      "TotalCharges        0\n",
      "Churn               0\n",
      "dtype: int64\n"
     ]
    }
   ],
   "source": [
    "print(telco.isnull().sum())"
   ]
  },
  {
   "cell_type": "code",
   "execution_count": 2226,
   "id": "1264f841-5816-459b-9f07-6f9e96b1f941",
   "metadata": {
    "scrolled": true
   },
   "outputs": [
    {
     "name": "stdout",
     "output_type": "stream",
     "text": [
      "Nos quedamos con un df de 5320 filas x22 columnas\n"
     ]
    }
   ],
   "source": [
    "print(f'Nos quedamos con un df de {telco.shape[0]} filas x{telco.shape[1]} columnas')"
   ]
  },
  {
   "cell_type": "code",
   "execution_count": null,
   "id": "a2050ec5-558f-4002-a8cf-bfaf2fd9286f",
   "metadata": {},
   "outputs": [],
   "source": []
  },
  {
   "cell_type": "markdown",
   "id": "54998cd2-0c03-4025-8f29-f60d4f46a8f8",
   "metadata": {},
   "source": [
    "#### Elimino las variables \"Unnamed: 0\" y \"customerID\" ya que son variables keys del dataset y no aportan informacion"
   ]
  },
  {
   "cell_type": "code",
   "execution_count": 2230,
   "id": "63933be4-9795-4688-a113-50bdf87f10fa",
   "metadata": {},
   "outputs": [
    {
     "data": {
      "text/plain": [
       "(5320, 20)"
      ]
     },
     "execution_count": 2230,
     "metadata": {},
     "output_type": "execute_result"
    }
   ],
   "source": [
    "ids_vars = [\"Unnamed: 0\", \"customerID\"] # creo una lista de las variables que decidimos eliminar\n",
    "telco.drop(ids_vars, axis=1,inplace= True)\n",
    "telco.shape"
   ]
  },
  {
   "cell_type": "markdown",
   "id": "5b280153-750a-4e6d-b8aa-e7369ef751fa",
   "metadata": {},
   "source": [
    "### Seleccion de variables"
   ]
  },
  {
   "cell_type": "code",
   "execution_count": 2233,
   "id": "0ddd0b74-51d4-40d2-b289-711fd0723667",
   "metadata": {},
   "outputs": [],
   "source": [
    "# Voy a probar diversas opciones y me quedare con la que performa mejor"
   ]
  },
  {
   "cell_type": "markdown",
   "id": "ed59cfa4-6fe0-46bf-84f3-6911e831cedb",
   "metadata": {},
   "source": [
    "### Opcion 1"
   ]
  },
  {
   "cell_type": "code",
   "execution_count": 2236,
   "id": "84837c0d-8c20-4c0f-bdbe-348c988fc732",
   "metadata": {},
   "outputs": [],
   "source": [
    "# Identifico y transformo columnas binarias\n",
    "binary_columns = [col for col in telco_opcion1.select_dtypes(include=['object']).columns if set(telco_opcion1[col].dropna().unique()) <= {'Yes', 'No', 'No'}]\n",
    "for column in binary_columns:\n",
    "    telco_opcion1[column] = telco_opcion1[column].map({'Yes': 1, 'No': 0})"
   ]
  },
  {
   "cell_type": "code",
   "execution_count": 2238,
   "id": "875a1ce2-c03b-4f7f-a1dc-d71e347a0c86",
   "metadata": {},
   "outputs": [],
   "source": [
    "# Identifico y transformo columnas no binarias\n",
    "non_binary_categorical_columns = list(set(telco_opcion1.select_dtypes(include=['object']).columns) - set(binary_columns))\n",
    "telco_opcion1 = pd.get_dummies(telco_opcion1, columns=non_binary_categorical_columns, drop_first=True, dtype=int)"
   ]
  },
  {
   "cell_type": "code",
   "execution_count": 2242,
   "id": "187005e8-1ce3-47fb-a9e3-8b15565296ec",
   "metadata": {},
   "outputs": [
    {
     "name": "stdout",
     "output_type": "stream",
     "text": [
      "   SeniorCitizen  tenure  DeviceProtection  TechSupport  StreamingTV  \\\n",
      "1            0.0    34.0                 1            0            0   \n",
      "2            0.0     2.0                 0            0            0   \n",
      "5            0.0     8.0                 1            0            1   \n",
      "6            0.0    22.0                 0            0            1   \n",
      "7            0.0    10.0                 0            0            0   \n",
      "\n",
      "   StreamingMovies  MonthlyCharges  TotalCharges  Churn  OnlineBackup_Yes  \\\n",
      "1                0            0.00       1889.50      0                 0   \n",
      "2                0           53.85        108.15      1                 0   \n",
      "5                1           99.65        820.50      1                 0   \n",
      "6                0           89.10       1949.40      0                 1   \n",
      "7                0           29.75        301.90      0                 0   \n",
      "\n",
      "   OnlineBackup_sin valor  PhoneService_Yes  PhoneService_sin valor  \\\n",
      "1                       0                 1                       0   \n",
      "2                       1                 0                       1   \n",
      "5                       0                 1                       0   \n",
      "6                       0                 1                       0   \n",
      "7                       0                 0                       0   \n",
      "\n",
      "   OnlineSecurity_Yes  OnlineSecurity_sin valor  \\\n",
      "1                   1                         0   \n",
      "2                   1                         0   \n",
      "5                   0                         0   \n",
      "6                   0                         0   \n",
      "7                   1                         0   \n",
      "\n",
      "   PaymentMethod_Credit card (automatic)  PaymentMethod_Electronic check  \\\n",
      "1                                      0                               0   \n",
      "2                                      0                               0   \n",
      "5                                      0                               1   \n",
      "6                                      1                               0   \n",
      "7                                      0                               0   \n",
      "\n",
      "   PaymentMethod_Mailed check  PaymentMethod_sin valor  \\\n",
      "1                           1                        0   \n",
      "2                           1                        0   \n",
      "5                           0                        0   \n",
      "6                           0                        0   \n",
      "7                           1                        0   \n",
      "\n",
      "   MultipleLines_No phone service  MultipleLines_Yes  MultipleLines_sin valor  \\\n",
      "1                               0                  0                        0   \n",
      "2                               0                  0                        0   \n",
      "5                               0                  1                        0   \n",
      "6                               0                  1                        0   \n",
      "7                               1                  0                        0   \n",
      "\n",
      "   InternetService_Fiber optic  InternetService_No  InternetService_sin valor  \\\n",
      "1                            0                   0                          1   \n",
      "2                            0                   0                          1   \n",
      "5                            1                   0                          0   \n",
      "6                            1                   0                          0   \n",
      "7                            0                   0                          0   \n",
      "\n",
      "   Contract_One year  Contract_Two year  Contract_sin valor  Partner_Yes  \\\n",
      "1                  1                  0                   0            0   \n",
      "2                  0                  0                   0            0   \n",
      "5                  0                  0                   0            0   \n",
      "6                  0                  0                   1            0   \n",
      "7                  0                  0                   1            0   \n",
      "\n",
      "   Partner_sin valor  gender_Male  gender_sin valor  Dependents_Yes  \\\n",
      "1                  0            1                 0               0   \n",
      "2                  0            1                 0               0   \n",
      "5                  0            0                 0               0   \n",
      "6                  1            1                 0               1   \n",
      "7                  0            0                 1               0   \n",
      "\n",
      "   Dependents_sin valor  PaperlessBilling_Yes  PaperlessBilling_sin valor  \n",
      "1                     0                     0                           0  \n",
      "2                     0                     1                           0  \n",
      "5                     0                     0                           1  \n",
      "6                     0                     1                           0  \n",
      "7                     0                     0                           1  \n"
     ]
    }
   ],
   "source": [
    "# Verifico el resultado\n",
    "print(telco_opcion1.head())"
   ]
  },
  {
   "cell_type": "code",
   "execution_count": 2244,
   "id": "c7c9c5a1-afc2-49d5-a2a7-89cea4b947cd",
   "metadata": {},
   "outputs": [
    {
     "name": "stdout",
     "output_type": "stream",
     "text": [
      "Nos quedamos con un data-set de 5320 filas x36 columnas\n"
     ]
    }
   ],
   "source": [
    "# Verificamo como quedo el data-set\n",
    "print(f'Nos quedamos con un data-set de {telco_opcion1.shape[0]} filas x{telco_opcion1.shape[1]} columnas')"
   ]
  },
  {
   "cell_type": "code",
   "execution_count": 2246,
   "id": "f3a83c8a-dd34-485a-9197-fad211cdeb91",
   "metadata": {},
   "outputs": [
    {
     "data": {
      "text/html": [
       "<div>\n",
       "<style scoped>\n",
       "    .dataframe tbody tr th:only-of-type {\n",
       "        vertical-align: middle;\n",
       "    }\n",
       "\n",
       "    .dataframe tbody tr th {\n",
       "        vertical-align: top;\n",
       "    }\n",
       "\n",
       "    .dataframe thead th {\n",
       "        text-align: right;\n",
       "    }\n",
       "</style>\n",
       "<table border=\"1\" class=\"dataframe\">\n",
       "  <thead>\n",
       "    <tr style=\"text-align: right;\">\n",
       "      <th></th>\n",
       "      <th>SeniorCitizen</th>\n",
       "      <th>tenure</th>\n",
       "      <th>DeviceProtection</th>\n",
       "      <th>TechSupport</th>\n",
       "      <th>StreamingTV</th>\n",
       "      <th>StreamingMovies</th>\n",
       "      <th>MonthlyCharges</th>\n",
       "      <th>TotalCharges</th>\n",
       "      <th>Churn</th>\n",
       "      <th>OnlineBackup_Yes</th>\n",
       "      <th>OnlineBackup_sin valor</th>\n",
       "      <th>PhoneService_Yes</th>\n",
       "      <th>PhoneService_sin valor</th>\n",
       "      <th>OnlineSecurity_Yes</th>\n",
       "      <th>OnlineSecurity_sin valor</th>\n",
       "      <th>PaymentMethod_Credit card (automatic)</th>\n",
       "      <th>PaymentMethod_Electronic check</th>\n",
       "      <th>PaymentMethod_Mailed check</th>\n",
       "      <th>PaymentMethod_sin valor</th>\n",
       "      <th>MultipleLines_No phone service</th>\n",
       "      <th>MultipleLines_Yes</th>\n",
       "      <th>MultipleLines_sin valor</th>\n",
       "      <th>InternetService_Fiber optic</th>\n",
       "      <th>InternetService_No</th>\n",
       "      <th>InternetService_sin valor</th>\n",
       "      <th>Contract_One year</th>\n",
       "      <th>Contract_Two year</th>\n",
       "      <th>Contract_sin valor</th>\n",
       "      <th>Partner_Yes</th>\n",
       "      <th>Partner_sin valor</th>\n",
       "      <th>gender_Male</th>\n",
       "      <th>gender_sin valor</th>\n",
       "      <th>Dependents_Yes</th>\n",
       "      <th>Dependents_sin valor</th>\n",
       "      <th>PaperlessBilling_Yes</th>\n",
       "      <th>PaperlessBilling_sin valor</th>\n",
       "    </tr>\n",
       "  </thead>\n",
       "  <tbody>\n",
       "    <tr>\n",
       "      <th>1</th>\n",
       "      <td>0.0</td>\n",
       "      <td>34.0</td>\n",
       "      <td>1</td>\n",
       "      <td>0</td>\n",
       "      <td>0</td>\n",
       "      <td>0</td>\n",
       "      <td>0.00</td>\n",
       "      <td>1889.50</td>\n",
       "      <td>0</td>\n",
       "      <td>0</td>\n",
       "      <td>0</td>\n",
       "      <td>1</td>\n",
       "      <td>0</td>\n",
       "      <td>1</td>\n",
       "      <td>0</td>\n",
       "      <td>0</td>\n",
       "      <td>0</td>\n",
       "      <td>1</td>\n",
       "      <td>0</td>\n",
       "      <td>0</td>\n",
       "      <td>0</td>\n",
       "      <td>0</td>\n",
       "      <td>0</td>\n",
       "      <td>0</td>\n",
       "      <td>1</td>\n",
       "      <td>1</td>\n",
       "      <td>0</td>\n",
       "      <td>0</td>\n",
       "      <td>0</td>\n",
       "      <td>0</td>\n",
       "      <td>1</td>\n",
       "      <td>0</td>\n",
       "      <td>0</td>\n",
       "      <td>0</td>\n",
       "      <td>0</td>\n",
       "      <td>0</td>\n",
       "    </tr>\n",
       "    <tr>\n",
       "      <th>2</th>\n",
       "      <td>0.0</td>\n",
       "      <td>2.0</td>\n",
       "      <td>0</td>\n",
       "      <td>0</td>\n",
       "      <td>0</td>\n",
       "      <td>0</td>\n",
       "      <td>53.85</td>\n",
       "      <td>108.15</td>\n",
       "      <td>1</td>\n",
       "      <td>0</td>\n",
       "      <td>1</td>\n",
       "      <td>0</td>\n",
       "      <td>1</td>\n",
       "      <td>1</td>\n",
       "      <td>0</td>\n",
       "      <td>0</td>\n",
       "      <td>0</td>\n",
       "      <td>1</td>\n",
       "      <td>0</td>\n",
       "      <td>0</td>\n",
       "      <td>0</td>\n",
       "      <td>0</td>\n",
       "      <td>0</td>\n",
       "      <td>0</td>\n",
       "      <td>1</td>\n",
       "      <td>0</td>\n",
       "      <td>0</td>\n",
       "      <td>0</td>\n",
       "      <td>0</td>\n",
       "      <td>0</td>\n",
       "      <td>1</td>\n",
       "      <td>0</td>\n",
       "      <td>0</td>\n",
       "      <td>0</td>\n",
       "      <td>1</td>\n",
       "      <td>0</td>\n",
       "    </tr>\n",
       "    <tr>\n",
       "      <th>5</th>\n",
       "      <td>0.0</td>\n",
       "      <td>8.0</td>\n",
       "      <td>1</td>\n",
       "      <td>0</td>\n",
       "      <td>1</td>\n",
       "      <td>1</td>\n",
       "      <td>99.65</td>\n",
       "      <td>820.50</td>\n",
       "      <td>1</td>\n",
       "      <td>0</td>\n",
       "      <td>0</td>\n",
       "      <td>1</td>\n",
       "      <td>0</td>\n",
       "      <td>0</td>\n",
       "      <td>0</td>\n",
       "      <td>0</td>\n",
       "      <td>1</td>\n",
       "      <td>0</td>\n",
       "      <td>0</td>\n",
       "      <td>0</td>\n",
       "      <td>1</td>\n",
       "      <td>0</td>\n",
       "      <td>1</td>\n",
       "      <td>0</td>\n",
       "      <td>0</td>\n",
       "      <td>0</td>\n",
       "      <td>0</td>\n",
       "      <td>0</td>\n",
       "      <td>0</td>\n",
       "      <td>0</td>\n",
       "      <td>0</td>\n",
       "      <td>0</td>\n",
       "      <td>0</td>\n",
       "      <td>0</td>\n",
       "      <td>0</td>\n",
       "      <td>1</td>\n",
       "    </tr>\n",
       "  </tbody>\n",
       "</table>\n",
       "</div>"
      ],
      "text/plain": [
       "   SeniorCitizen  tenure  DeviceProtection  TechSupport  StreamingTV  \\\n",
       "1            0.0    34.0                 1            0            0   \n",
       "2            0.0     2.0                 0            0            0   \n",
       "5            0.0     8.0                 1            0            1   \n",
       "\n",
       "   StreamingMovies  MonthlyCharges  TotalCharges  Churn  OnlineBackup_Yes  \\\n",
       "1                0            0.00       1889.50      0                 0   \n",
       "2                0           53.85        108.15      1                 0   \n",
       "5                1           99.65        820.50      1                 0   \n",
       "\n",
       "   OnlineBackup_sin valor  PhoneService_Yes  PhoneService_sin valor  \\\n",
       "1                       0                 1                       0   \n",
       "2                       1                 0                       1   \n",
       "5                       0                 1                       0   \n",
       "\n",
       "   OnlineSecurity_Yes  OnlineSecurity_sin valor  \\\n",
       "1                   1                         0   \n",
       "2                   1                         0   \n",
       "5                   0                         0   \n",
       "\n",
       "   PaymentMethod_Credit card (automatic)  PaymentMethod_Electronic check  \\\n",
       "1                                      0                               0   \n",
       "2                                      0                               0   \n",
       "5                                      0                               1   \n",
       "\n",
       "   PaymentMethod_Mailed check  PaymentMethod_sin valor  \\\n",
       "1                           1                        0   \n",
       "2                           1                        0   \n",
       "5                           0                        0   \n",
       "\n",
       "   MultipleLines_No phone service  MultipleLines_Yes  MultipleLines_sin valor  \\\n",
       "1                               0                  0                        0   \n",
       "2                               0                  0                        0   \n",
       "5                               0                  1                        0   \n",
       "\n",
       "   InternetService_Fiber optic  InternetService_No  InternetService_sin valor  \\\n",
       "1                            0                   0                          1   \n",
       "2                            0                   0                          1   \n",
       "5                            1                   0                          0   \n",
       "\n",
       "   Contract_One year  Contract_Two year  Contract_sin valor  Partner_Yes  \\\n",
       "1                  1                  0                   0            0   \n",
       "2                  0                  0                   0            0   \n",
       "5                  0                  0                   0            0   \n",
       "\n",
       "   Partner_sin valor  gender_Male  gender_sin valor  Dependents_Yes  \\\n",
       "1                  0            1                 0               0   \n",
       "2                  0            1                 0               0   \n",
       "5                  0            0                 0               0   \n",
       "\n",
       "   Dependents_sin valor  PaperlessBilling_Yes  PaperlessBilling_sin valor  \n",
       "1                     0                     0                           0  \n",
       "2                     0                     1                           0  \n",
       "5                     0                     0                           1  "
      ]
     },
     "execution_count": 2246,
     "metadata": {},
     "output_type": "execute_result"
    }
   ],
   "source": [
    "telco_opcion1.head(3)"
   ]
  },
  {
   "cell_type": "markdown",
   "id": "18695a42-a0a7-493d-833e-d7360c973650",
   "metadata": {},
   "source": [
    "#### Guardar el DataFrame procesado como un archivo CSV para levantarlo en Notebook \"Modelo de entrenamiento\""
   ]
  },
  {
   "cell_type": "code",
   "execution_count": 2249,
   "id": "48164eff-dd44-40e9-9ec3-bee3525e9eb9",
   "metadata": {},
   "outputs": [],
   "source": [
    "telco_opcion1.to_csv('telco_processed1.csv', index=False)"
   ]
  },
  {
   "cell_type": "code",
   "execution_count": null,
   "id": "8a73118a-49fd-4b40-abb8-f20f75a8c6ec",
   "metadata": {},
   "outputs": [],
   "source": []
  },
  {
   "cell_type": "code",
   "execution_count": null,
   "id": "79fa2f00-bc55-4c4a-98df-5c327ca67699",
   "metadata": {},
   "outputs": [],
   "source": []
  },
  {
   "cell_type": "code",
   "execution_count": null,
   "id": "b93d7894-1aed-461b-a973-8f3577ab9504",
   "metadata": {},
   "outputs": [],
   "source": []
  },
  {
   "cell_type": "markdown",
   "id": "de368454-ff7c-4cc1-be1a-61189d3e4d66",
   "metadata": {},
   "source": [
    "### Opcion 2"
   ]
  },
  {
   "cell_type": "code",
   "execution_count": 2255,
   "id": "0755a380-0ea6-44fb-b655-d66c23b0bbbf",
   "metadata": {},
   "outputs": [],
   "source": [
    "telco_opcion2 = telco.copy()"
   ]
  },
  {
   "cell_type": "code",
   "execution_count": 2257,
   "id": "7f16753a-523a-4f5a-8794-d7d6857a5983",
   "metadata": {},
   "outputs": [],
   "source": [
    "# Identifico y transformo columnas binarias\n",
    "binary_columns = [col for col in telco_opcion2.select_dtypes(include=['object']).columns if set(telco_opcion2[col].dropna().unique()) <= {'Yes', 'No', 'No'}]\n",
    "for column in binary_columns:\n",
    "    telco_opcion2[column] = telco_opcion2[column].map({'Yes': 1, 'No': 0})"
   ]
  },
  {
   "cell_type": "code",
   "execution_count": 2259,
   "id": "f936c765-4c5c-45ef-bf9d-a9cc4f453df6",
   "metadata": {},
   "outputs": [],
   "source": [
    "# Identifico y transformo columnas no binarias\n",
    "non_binary_categorical_columns = list(set(telco_opcion2.select_dtypes(include=['object']).columns) - set(binary_columns))\n",
    "telco_opcion2 = pd.get_dummies(telco_opcion2, columns=non_binary_categorical_columns, drop_first=True, dtype=int)"
   ]
  },
  {
   "cell_type": "code",
   "execution_count": 2261,
   "id": "9be9647e-80ba-45bd-becd-eade8309837a",
   "metadata": {},
   "outputs": [
    {
     "name": "stdout",
     "output_type": "stream",
     "text": [
      "   SeniorCitizen  tenure  DeviceProtection  TechSupport  StreamingTV  \\\n",
      "1            0.0    34.0                 1            0            0   \n",
      "2            0.0     2.0                 0            0            0   \n",
      "5            0.0     8.0                 1            0            1   \n",
      "6            0.0    22.0                 0            0            1   \n",
      "7            0.0    10.0                 0            0            0   \n",
      "\n",
      "   StreamingMovies  MonthlyCharges  TotalCharges  Churn  OnlineBackup_Yes  \\\n",
      "1                0            0.00       1889.50      0                 0   \n",
      "2                0           53.85        108.15      1                 0   \n",
      "5                1           99.65        820.50      1                 0   \n",
      "6                0           89.10       1949.40      0                 1   \n",
      "7                0           29.75        301.90      0                 0   \n",
      "\n",
      "   OnlineBackup_sin valor  PhoneService_Yes  PhoneService_sin valor  \\\n",
      "1                       0                 1                       0   \n",
      "2                       1                 0                       1   \n",
      "5                       0                 1                       0   \n",
      "6                       0                 1                       0   \n",
      "7                       0                 0                       0   \n",
      "\n",
      "   OnlineSecurity_Yes  OnlineSecurity_sin valor  \\\n",
      "1                   1                         0   \n",
      "2                   1                         0   \n",
      "5                   0                         0   \n",
      "6                   0                         0   \n",
      "7                   1                         0   \n",
      "\n",
      "   PaymentMethod_Credit card (automatic)  PaymentMethod_Electronic check  \\\n",
      "1                                      0                               0   \n",
      "2                                      0                               0   \n",
      "5                                      0                               1   \n",
      "6                                      1                               0   \n",
      "7                                      0                               0   \n",
      "\n",
      "   PaymentMethod_Mailed check  PaymentMethod_sin valor  \\\n",
      "1                           1                        0   \n",
      "2                           1                        0   \n",
      "5                           0                        0   \n",
      "6                           0                        0   \n",
      "7                           1                        0   \n",
      "\n",
      "   MultipleLines_No phone service  MultipleLines_Yes  MultipleLines_sin valor  \\\n",
      "1                               0                  0                        0   \n",
      "2                               0                  0                        0   \n",
      "5                               0                  1                        0   \n",
      "6                               0                  1                        0   \n",
      "7                               1                  0                        0   \n",
      "\n",
      "   InternetService_Fiber optic  InternetService_No  InternetService_sin valor  \\\n",
      "1                            0                   0                          1   \n",
      "2                            0                   0                          1   \n",
      "5                            1                   0                          0   \n",
      "6                            1                   0                          0   \n",
      "7                            0                   0                          0   \n",
      "\n",
      "   Contract_One year  Contract_Two year  Contract_sin valor  Partner_Yes  \\\n",
      "1                  1                  0                   0            0   \n",
      "2                  0                  0                   0            0   \n",
      "5                  0                  0                   0            0   \n",
      "6                  0                  0                   1            0   \n",
      "7                  0                  0                   1            0   \n",
      "\n",
      "   Partner_sin valor  gender_Male  gender_sin valor  Dependents_Yes  \\\n",
      "1                  0            1                 0               0   \n",
      "2                  0            1                 0               0   \n",
      "5                  0            0                 0               0   \n",
      "6                  1            1                 0               1   \n",
      "7                  0            0                 1               0   \n",
      "\n",
      "   Dependents_sin valor  PaperlessBilling_Yes  PaperlessBilling_sin valor  \n",
      "1                     0                     0                           0  \n",
      "2                     0                     1                           0  \n",
      "5                     0                     0                           1  \n",
      "6                     0                     1                           0  \n",
      "7                     0                     0                           1  \n"
     ]
    }
   ],
   "source": [
    "# Verifico el resultado\n",
    "print(telco_opcion2.head())"
   ]
  },
  {
   "cell_type": "code",
   "execution_count": null,
   "id": "45c58614-404e-4898-80ac-08b5560a519a",
   "metadata": {},
   "outputs": [],
   "source": []
  },
  {
   "cell_type": "markdown",
   "id": "a35608fb-8c93-435f-9d5d-a59d149f4bf3",
   "metadata": {},
   "source": [
    "#### Analizo correlacion entre las variables"
   ]
  },
  {
   "cell_type": "code",
   "execution_count": 2265,
   "id": "01fe90a0-759a-4794-9b39-8ddefe2d762a",
   "metadata": {},
   "outputs": [],
   "source": [
    "# Calculo matriz de correlación\n",
    "correlation_matrix = telco_opcion2.corr()"
   ]
  },
  {
   "cell_type": "code",
   "execution_count": 2267,
   "id": "dfd39f22-9331-4140-9665-9f56578a8546",
   "metadata": {},
   "outputs": [],
   "source": [
    "# Extraigo la correlación con 'Churn'\n",
    "correlation_with_churn = correlation_matrix['Churn'].sort_values(ascending=False)"
   ]
  },
  {
   "cell_type": "code",
   "execution_count": 2269,
   "id": "14ed6d66-26fc-4789-a2f3-4e16389d03d8",
   "metadata": {},
   "outputs": [
    {
     "name": "stdout",
     "output_type": "stream",
     "text": [
      "Churn                                    1.000000\n",
      "PaymentMethod_Electronic check           0.268756\n",
      "InternetService_Fiber optic              0.266611\n",
      "PaperlessBilling_Yes                     0.157999\n",
      "SeniorCitizen                            0.153428\n",
      "MonthlyCharges                           0.112206\n",
      "StreamingTV                              0.075277\n",
      "StreamingMovies                          0.061873\n",
      "MultipleLines_sin valor                  0.030121\n",
      "OnlineBackup_sin valor                   0.022006\n",
      "InternetService_sin valor                0.021367\n",
      "MultipleLines_Yes                        0.019324\n",
      "PhoneService_Yes                         0.016072\n",
      "gender_Male                              0.011912\n",
      "Dependents_sin valor                     0.005044\n",
      "Partner_sin valor                        0.001336\n",
      "gender_sin valor                        -0.001925\n",
      "PhoneService_sin valor                  -0.002323\n",
      "PaperlessBilling_sin valor              -0.004757\n",
      "OnlineSecurity_sin valor                -0.006908\n",
      "Contract_sin valor                      -0.010892\n",
      "PaymentMethod_sin valor                 -0.011118\n",
      "MultipleLines_No phone service          -0.018247\n",
      "DeviceProtection                        -0.063906\n",
      "OnlineBackup_Yes                        -0.076800\n",
      "PaymentMethod_Mailed check              -0.077465\n",
      "PaymentMethod_Credit card (automatic)   -0.114227\n",
      "Partner_Yes                             -0.127306\n",
      "Dependents_Yes                          -0.138880\n",
      "OnlineSecurity_Yes                      -0.145924\n",
      "Contract_One year                       -0.153524\n",
      "TechSupport                             -0.161600\n",
      "TotalCharges                            -0.204083\n",
      "InternetService_No                      -0.210566\n",
      "Contract_Two year                       -0.266202\n",
      "tenure                                  -0.361297\n",
      "Name: Churn, dtype: float64\n"
     ]
    }
   ],
   "source": [
    "# Muestro las correlaciones\n",
    "print(correlation_with_churn)"
   ]
  },
  {
   "cell_type": "code",
   "execution_count": 2271,
   "id": "e1a0e2fa-bae8-4e56-bc79-78862cbb4871",
   "metadata": {},
   "outputs": [
    {
     "name": "stderr",
     "output_type": "stream",
     "text": [
      "C:\\Users\\joaqpach\\AppData\\Local\\Temp\\ipykernel_13704\\2138996800.py:3: FutureWarning: \n",
      "\n",
      "Passing `palette` without assigning `hue` is deprecated and will be removed in v0.14.0. Assign the `x` variable to `hue` and set `legend=False` for the same effect.\n",
      "\n",
      "  sns.barplot(x=correlation_with_churn.index, y=correlation_with_churn.values, palette='coolwarm')\n"
     ]
    },
    {
     "data": {
      "image/png": "[encoded data removed]",
      "text/plain": [
       "<Figure size 1000x600 with 1 Axes>"
      ]
     },
     "metadata": {},
     "output_type": "display_data"
    }
   ],
   "source": [
    "# Visualizo las correlaciones con un gráfico de barras\n",
    "plt.figure(figsize=(10, 6))\n",
    "sns.barplot(x=correlation_with_churn.index, y=correlation_with_churn.values, palette='coolwarm')\n",
    "plt.xticks(rotation=90)\n",
    "plt.title('Correlación de Variables con Churn')\n",
    "plt.xlabel('Variables')\n",
    "plt.ylabel('Correlación')\n",
    "plt.tight_layout()\n",
    "plt.show()"
   ]
  },
  {
   "cell_type": "code",
   "execution_count": 2273,
   "id": "2ea227da-79da-409c-8d7c-570155bf8c30",
   "metadata": {},
   "outputs": [],
   "source": [
    "#Elimino las variables cuya correlacion sea menor al 0,05"
   ]
  },
  {
   "cell_type": "code",
   "execution_count": 2275,
   "id": "c054a84e-3dfb-46c6-8a23-b8e698517f9a",
   "metadata": {},
   "outputs": [],
   "source": [
    "threshold = 0.05 "
   ]
  },
  {
   "cell_type": "code",
   "execution_count": 2277,
   "id": "c7e65bf9-0f8e-4f17-bc5b-c1295b34ddbb",
   "metadata": {},
   "outputs": [],
   "source": [
    "less_relevant_variables = correlation_with_churn[correlation_with_churn.abs() < threshold]"
   ]
  },
  {
   "cell_type": "code",
   "execution_count": 2279,
   "id": "244ec8bb-e6e1-4b72-906b-b04242e387c9",
   "metadata": {},
   "outputs": [
    {
     "name": "stdout",
     "output_type": "stream",
     "text": [
      "\n",
      "Variables con menor relevancia:\n",
      "MultipleLines_sin valor           0.030121\n",
      "OnlineBackup_sin valor            0.022006\n",
      "InternetService_sin valor         0.021367\n",
      "MultipleLines_Yes                 0.019324\n",
      "PhoneService_Yes                  0.016072\n",
      "gender_Male                       0.011912\n",
      "Dependents_sin valor              0.005044\n",
      "Partner_sin valor                 0.001336\n",
      "gender_sin valor                 -0.001925\n",
      "PhoneService_sin valor           -0.002323\n",
      "PaperlessBilling_sin valor       -0.004757\n",
      "OnlineSecurity_sin valor         -0.006908\n",
      "Contract_sin valor               -0.010892\n",
      "PaymentMethod_sin valor          -0.011118\n",
      "MultipleLines_No phone service   -0.018247\n",
      "Name: Churn, dtype: float64\n"
     ]
    }
   ],
   "source": [
    "print(\"\\nVariables con menor relevancia:\")\n",
    "print(less_relevant_variables)"
   ]
  },
  {
   "cell_type": "code",
   "execution_count": 2281,
   "id": "7eb2cfcd-be50-4d2f-a0e3-3ea3e337175b",
   "metadata": {},
   "outputs": [],
   "source": [
    "telco_reduced = telco_opcion2.drop(columns=less_relevant_variables.index)"
   ]
  },
  {
   "cell_type": "code",
   "execution_count": 2283,
   "id": "ff5647b6-8370-4a5d-a35d-27b1e35716c3",
   "metadata": {},
   "outputs": [
    {
     "name": "stdout",
     "output_type": "stream",
     "text": [
      "Nos quedamos con un data-set de 5320 filas x21 columnas\n"
     ]
    }
   ],
   "source": [
    "print(f'Nos quedamos con un data-set de {telco_reduced.shape[0]} filas x{telco_reduced.shape[1]} columnas')"
   ]
  },
  {
   "cell_type": "code",
   "execution_count": 2285,
   "id": "54e81776-8507-42c4-8577-547a6e4d64bc",
   "metadata": {},
   "outputs": [
    {
     "data": {
      "text/html": [
       "<div>\n",
       "<style scoped>\n",
       "    .dataframe tbody tr th:only-of-type {\n",
       "        vertical-align: middle;\n",
       "    }\n",
       "\n",
       "    .dataframe tbody tr th {\n",
       "        vertical-align: top;\n",
       "    }\n",
       "\n",
       "    .dataframe thead th {\n",
       "        text-align: right;\n",
       "    }\n",
       "</style>\n",
       "<table border=\"1\" class=\"dataframe\">\n",
       "  <thead>\n",
       "    <tr style=\"text-align: right;\">\n",
       "      <th></th>\n",
       "      <th>SeniorCitizen</th>\n",
       "      <th>tenure</th>\n",
       "      <th>DeviceProtection</th>\n",
       "      <th>TechSupport</th>\n",
       "      <th>StreamingTV</th>\n",
       "      <th>StreamingMovies</th>\n",
       "      <th>MonthlyCharges</th>\n",
       "      <th>TotalCharges</th>\n",
       "      <th>Churn</th>\n",
       "      <th>OnlineBackup_Yes</th>\n",
       "      <th>OnlineSecurity_Yes</th>\n",
       "      <th>PaymentMethod_Credit card (automatic)</th>\n",
       "      <th>PaymentMethod_Electronic check</th>\n",
       "      <th>PaymentMethod_Mailed check</th>\n",
       "      <th>InternetService_Fiber optic</th>\n",
       "      <th>InternetService_No</th>\n",
       "      <th>Contract_One year</th>\n",
       "      <th>Contract_Two year</th>\n",
       "      <th>Partner_Yes</th>\n",
       "      <th>Dependents_Yes</th>\n",
       "      <th>PaperlessBilling_Yes</th>\n",
       "    </tr>\n",
       "  </thead>\n",
       "  <tbody>\n",
       "    <tr>\n",
       "      <th>1</th>\n",
       "      <td>0.0</td>\n",
       "      <td>34.0</td>\n",
       "      <td>1</td>\n",
       "      <td>0</td>\n",
       "      <td>0</td>\n",
       "      <td>0</td>\n",
       "      <td>0.00</td>\n",
       "      <td>1889.50</td>\n",
       "      <td>0</td>\n",
       "      <td>0</td>\n",
       "      <td>1</td>\n",
       "      <td>0</td>\n",
       "      <td>0</td>\n",
       "      <td>1</td>\n",
       "      <td>0</td>\n",
       "      <td>0</td>\n",
       "      <td>1</td>\n",
       "      <td>0</td>\n",
       "      <td>0</td>\n",
       "      <td>0</td>\n",
       "      <td>0</td>\n",
       "    </tr>\n",
       "    <tr>\n",
       "      <th>2</th>\n",
       "      <td>0.0</td>\n",
       "      <td>2.0</td>\n",
       "      <td>0</td>\n",
       "      <td>0</td>\n",
       "      <td>0</td>\n",
       "      <td>0</td>\n",
       "      <td>53.85</td>\n",
       "      <td>108.15</td>\n",
       "      <td>1</td>\n",
       "      <td>0</td>\n",
       "      <td>1</td>\n",
       "      <td>0</td>\n",
       "      <td>0</td>\n",
       "      <td>1</td>\n",
       "      <td>0</td>\n",
       "      <td>0</td>\n",
       "      <td>0</td>\n",
       "      <td>0</td>\n",
       "      <td>0</td>\n",
       "      <td>0</td>\n",
       "      <td>1</td>\n",
       "    </tr>\n",
       "    <tr>\n",
       "      <th>5</th>\n",
       "      <td>0.0</td>\n",
       "      <td>8.0</td>\n",
       "      <td>1</td>\n",
       "      <td>0</td>\n",
       "      <td>1</td>\n",
       "      <td>1</td>\n",
       "      <td>99.65</td>\n",
       "      <td>820.50</td>\n",
       "      <td>1</td>\n",
       "      <td>0</td>\n",
       "      <td>0</td>\n",
       "      <td>0</td>\n",
       "      <td>1</td>\n",
       "      <td>0</td>\n",
       "      <td>1</td>\n",
       "      <td>0</td>\n",
       "      <td>0</td>\n",
       "      <td>0</td>\n",
       "      <td>0</td>\n",
       "      <td>0</td>\n",
       "      <td>0</td>\n",
       "    </tr>\n",
       "  </tbody>\n",
       "</table>\n",
       "</div>"
      ],
      "text/plain": [
       "   SeniorCitizen  tenure  DeviceProtection  TechSupport  StreamingTV  \\\n",
       "1            0.0    34.0                 1            0            0   \n",
       "2            0.0     2.0                 0            0            0   \n",
       "5            0.0     8.0                 1            0            1   \n",
       "\n",
       "   StreamingMovies  MonthlyCharges  TotalCharges  Churn  OnlineBackup_Yes  \\\n",
       "1                0            0.00       1889.50      0                 0   \n",
       "2                0           53.85        108.15      1                 0   \n",
       "5                1           99.65        820.50      1                 0   \n",
       "\n",
       "   OnlineSecurity_Yes  PaymentMethod_Credit card (automatic)  \\\n",
       "1                   1                                      0   \n",
       "2                   1                                      0   \n",
       "5                   0                                      0   \n",
       "\n",
       "   PaymentMethod_Electronic check  PaymentMethod_Mailed check  \\\n",
       "1                               0                           1   \n",
       "2                               0                           1   \n",
       "5                               1                           0   \n",
       "\n",
       "   InternetService_Fiber optic  InternetService_No  Contract_One year  \\\n",
       "1                            0                   0                  1   \n",
       "2                            0                   0                  0   \n",
       "5                            1                   0                  0   \n",
       "\n",
       "   Contract_Two year  Partner_Yes  Dependents_Yes  PaperlessBilling_Yes  \n",
       "1                  0            0               0                     0  \n",
       "2                  0            0               0                     1  \n",
       "5                  0            0               0                     0  "
      ]
     },
     "execution_count": 2285,
     "metadata": {},
     "output_type": "execute_result"
    }
   ],
   "source": [
    "telco_reduced.head(3)"
   ]
  },
  {
   "cell_type": "markdown",
   "id": "bc07e956-1f15-4885-8c1c-5f1a853d284b",
   "metadata": {},
   "source": [
    "#### Guardar el DataFrame procesado como un archivo CSV para levantarlo en Notebook \"Modelo de entrenamiento\""
   ]
  },
  {
   "cell_type": "code",
   "execution_count": 2288,
   "id": "396c44f4-fdb4-4a1e-a0df-e937b58c9da6",
   "metadata": {},
   "outputs": [],
   "source": [
    "telco_reduced.to_csv('telco_processed2.csv', index=False)"
   ]
  },
  {
   "cell_type": "code",
   "execution_count": null,
   "id": "c2c6ab67-c6fd-420a-81f0-440854a247b2",
   "metadata": {},
   "outputs": [],
   "source": []
  },
  {
   "cell_type": "code",
   "execution_count": 2290,
   "id": "eec398a3-a9dd-4d97-a958-84314713dc05",
   "metadata": {},
   "outputs": [
    {
     "name": "stdout",
     "output_type": "stream",
     "text": [
      "Archivo encontrado: C:\\Users\\joaqpach\\Desktop\\FA\\Ciencia de datos\\TP Final\\telco_processed1.csv\n",
      "Archivo encontrado: C:\\Users\\joaqpach\\Desktop\\FA\\Ciencia de datos\\TP Final\\telco_processed2.csv\n"
     ]
    }
   ],
   "source": [
    "# Busco la ruta para levantarlos luego\n",
    "import os\n",
    "\n",
    "\n",
    "files_to_find = ['telco_processed1.csv', 'telco_processed2.csv']\n",
    "\n",
    "for file_name in files_to_find:\n",
    "    for root, dirs, files in os.walk('.'):\n",
    "        if file_name in files:\n",
    "            full_path = os.path.abspath(os.path.join(root, file_name))\n",
    "            print(f\"Archivo encontrado: {full_path}\")"
   ]
  },
  {
   "cell_type": "code",
   "execution_count": null,
   "id": "34344f92-ed28-40b6-8480-f2d1e7d0460f",
   "metadata": {},
   "outputs": [],
   "source": []
  }
 ],
 "metadata": {
  "kernelspec": {
   "display_name": "Python 3 (ipykernel)",
   "language": "python",
   "name": "python3"
  },
  "language_info": {
   "codemirror_mode": {
    "name": "ipython",
    "version": 3
   },
   "file_extension": ".py",
   "mimetype": "text/x-python",
   "name": "python",
   "nbconvert_exporter": "python",
   "pygments_lexer": "ipython3",
   "version": "3.12.4"
  }
 },
 "nbformat": 4,
 "nbformat_minor": 5
}
